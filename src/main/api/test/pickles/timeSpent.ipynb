{
 "cells": [
  {
   "cell_type": "code",
   "execution_count": 6,
   "metadata": {},
   "outputs": [],
   "source": [
    "import pickle\n",
    "import os\n",
    "os.chdir('C:\\\\Users\\\\t6w31\\\\Desktop\\\\grafos\\\\PI\\\\src\\\\main\\\\api\\\\test\\\\pickles')"
   ]
  },
  {
   "cell_type": "code",
   "execution_count": 7,
   "metadata": {},
   "outputs": [],
   "source": [
    "def load_pickle(file_name):\n",
    "    file = open(file_name, 'rb')\n",
    "    loaded = pickle.load(file)\n",
    "    file.close()\n",
    "    return loaded"
   ]
  },
  {
   "cell_type": "code",
   "execution_count": 8,
   "metadata": {},
   "outputs": [
    {
     "ename": "ModuleNotFoundError",
     "evalue": "No module named 'model'",
     "output_type": "error",
     "traceback": [
      "\u001b[1;31m---------------------------------------------------------------------------\u001b[0m",
      "\u001b[1;31mModuleNotFoundError\u001b[0m                       Traceback (most recent call last)",
      "Cell \u001b[1;32mIn [8], line 1\u001b[0m\n\u001b[1;32m----> 1\u001b[0m result \u001b[39m=\u001b[39m load_pickle(\u001b[39m\"\u001b[39;49m\u001b[39mtimeSpent_3Destinations0.pkl\u001b[39;49m\u001b[39m\"\u001b[39;49m)\n",
      "Cell \u001b[1;32mIn [7], line 3\u001b[0m, in \u001b[0;36mload_pickle\u001b[1;34m(file_name)\u001b[0m\n\u001b[0;32m      1\u001b[0m \u001b[39mdef\u001b[39;00m \u001b[39mload_pickle\u001b[39m(file_name):\n\u001b[0;32m      2\u001b[0m     file \u001b[39m=\u001b[39m \u001b[39mopen\u001b[39m(file_name, \u001b[39m'\u001b[39m\u001b[39mrb\u001b[39m\u001b[39m'\u001b[39m)\n\u001b[1;32m----> 3\u001b[0m     loaded \u001b[39m=\u001b[39m pickle\u001b[39m.\u001b[39;49mload(file)\n\u001b[0;32m      4\u001b[0m     file\u001b[39m.\u001b[39mclose()\n\u001b[0;32m      5\u001b[0m     \u001b[39mreturn\u001b[39;00m loaded\n",
      "\u001b[1;31mModuleNotFoundError\u001b[0m: No module named 'model'"
     ]
    }
   ],
   "source": [
    "result = load_pickle(\"timeSpent_3Destinations0.pkl\")"
   ]
  }
 ],
 "metadata": {
  "kernelspec": {
   "display_name": "Python 3.9.2 ('guppe')",
   "language": "python",
   "name": "python3"
  },
  "language_info": {
   "codemirror_mode": {
    "name": "ipython",
    "version": 3
   },
   "file_extension": ".py",
   "mimetype": "text/x-python",
   "name": "python",
   "nbconvert_exporter": "python",
   "pygments_lexer": "ipython3",
   "version": "3.9.2"
  },
  "orig_nbformat": 4,
  "vscode": {
   "interpreter": {
    "hash": "ef17ecebb64a49197f706e6c90efdea1c758042a7702d1dafc87d03acffc6ce7"
   }
  }
 },
 "nbformat": 4,
 "nbformat_minor": 2
}
